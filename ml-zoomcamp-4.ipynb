{
 "cells": [
  {
   "cell_type": "code",
   "execution_count": 1,
   "id": "62741c48",
   "metadata": {
    "_cell_guid": "b1076dfc-b9ad-4769-8c92-a6c4dae69d19",
    "_uuid": "8f2839f25d086af736a60e9eeb907d3b93b6e0e5",
    "execution": {
     "iopub.execute_input": "2023-10-08T10:21:07.674271Z",
     "iopub.status.busy": "2023-10-08T10:21:07.673926Z",
     "iopub.status.idle": "2023-10-08T10:21:10.604610Z",
     "shell.execute_reply": "2023-10-08T10:21:10.602695Z"
    },
    "papermill": {
     "duration": 2.94134,
     "end_time": "2023-10-08T10:21:10.608025",
     "exception": false,
     "start_time": "2023-10-08T10:21:07.666685",
     "status": "completed"
    },
    "tags": []
   },
   "outputs": [],
   "source": [
    "import pandas as pd\n",
    "import numpy as np\n",
    "\n",
    "from sklearn.model_selection import train_test_split\n",
    "from sklearn.metrics import roc_auc_score, precision_score, recall_score\n",
    "from sklearn.feature_extraction import DictVectorizer\n",
    "from sklearn.linear_model import LogisticRegression\n",
    "\n",
    "import seaborn as sns\n",
    "from matplotlib import pyplot as plt\n",
    "%matplotlib inline"
   ]
  },
  {
   "cell_type": "code",
   "execution_count": 2,
   "id": "a2aad5bc",
   "metadata": {
    "execution": {
     "iopub.execute_input": "2023-10-08T10:21:10.629979Z",
     "iopub.status.busy": "2023-10-08T10:21:10.628788Z",
     "iopub.status.idle": "2023-10-08T10:21:10.940816Z",
     "shell.execute_reply": "2023-10-08T10:21:10.939112Z"
    },
    "papermill": {
     "duration": 0.323339,
     "end_time": "2023-10-08T10:21:10.943444",
     "exception": false,
     "start_time": "2023-10-08T10:21:10.620105",
     "status": "completed"
    },
    "tags": []
   },
   "outputs": [],
   "source": [
    "url = \"https://raw.githubusercontent.com/alexeygrigorev/mlbookcamp-code/master/chapter-02-car-price/data.csv\"\n",
    "data = pd.read_csv(url)"
   ]
  },
  {
   "cell_type": "code",
   "execution_count": 3,
   "id": "6f3ff012",
   "metadata": {
    "execution": {
     "iopub.execute_input": "2023-10-08T10:21:10.956407Z",
     "iopub.status.busy": "2023-10-08T10:21:10.955022Z",
     "iopub.status.idle": "2023-10-08T10:21:10.982238Z",
     "shell.execute_reply": "2023-10-08T10:21:10.980968Z"
    },
    "papermill": {
     "duration": 0.037271,
     "end_time": "2023-10-08T10:21:10.985256",
     "exception": false,
     "start_time": "2023-10-08T10:21:10.947985",
     "status": "completed"
    },
    "tags": []
   },
   "outputs": [],
   "source": [
    "selected_features = [\n",
    "    'Make', 'Model', 'Year', 'Engine HP', 'Engine Cylinders',\n",
    "    'Transmission Type', 'Vehicle Style', 'highway MPG', 'city mpg', 'MSRP'\n",
    "]\n",
    "data = data[selected_features]"
   ]
  },
  {
   "cell_type": "code",
   "execution_count": 4,
   "id": "d3eeb5a8",
   "metadata": {
    "execution": {
     "iopub.execute_input": "2023-10-08T10:21:10.998115Z",
     "iopub.status.busy": "2023-10-08T10:21:10.997391Z",
     "iopub.status.idle": "2023-10-08T10:21:11.020097Z",
     "shell.execute_reply": "2023-10-08T10:21:11.019022Z"
    },
    "papermill": {
     "duration": 0.032281,
     "end_time": "2023-10-08T10:21:11.022744",
     "exception": false,
     "start_time": "2023-10-08T10:21:10.990463",
     "status": "completed"
    },
    "tags": []
   },
   "outputs": [
    {
     "data": {
      "text/html": [
       "<div>\n",
       "<style scoped>\n",
       "    .dataframe tbody tr th:only-of-type {\n",
       "        vertical-align: middle;\n",
       "    }\n",
       "\n",
       "    .dataframe tbody tr th {\n",
       "        vertical-align: top;\n",
       "    }\n",
       "\n",
       "    .dataframe thead th {\n",
       "        text-align: right;\n",
       "    }\n",
       "</style>\n",
       "<table border=\"1\" class=\"dataframe\">\n",
       "  <thead>\n",
       "    <tr style=\"text-align: right;\">\n",
       "      <th></th>\n",
       "      <th>Make</th>\n",
       "      <th>Model</th>\n",
       "      <th>Year</th>\n",
       "      <th>Engine HP</th>\n",
       "      <th>Engine Cylinders</th>\n",
       "      <th>Transmission Type</th>\n",
       "      <th>Vehicle Style</th>\n",
       "      <th>highway MPG</th>\n",
       "      <th>city mpg</th>\n",
       "      <th>MSRP</th>\n",
       "    </tr>\n",
       "  </thead>\n",
       "  <tbody>\n",
       "    <tr>\n",
       "      <th>0</th>\n",
       "      <td>BMW</td>\n",
       "      <td>1 Series M</td>\n",
       "      <td>2011</td>\n",
       "      <td>335.0</td>\n",
       "      <td>6.0</td>\n",
       "      <td>MANUAL</td>\n",
       "      <td>Coupe</td>\n",
       "      <td>26</td>\n",
       "      <td>19</td>\n",
       "      <td>46135</td>\n",
       "    </tr>\n",
       "    <tr>\n",
       "      <th>1</th>\n",
       "      <td>BMW</td>\n",
       "      <td>1 Series</td>\n",
       "      <td>2011</td>\n",
       "      <td>300.0</td>\n",
       "      <td>6.0</td>\n",
       "      <td>MANUAL</td>\n",
       "      <td>Convertible</td>\n",
       "      <td>28</td>\n",
       "      <td>19</td>\n",
       "      <td>40650</td>\n",
       "    </tr>\n",
       "    <tr>\n",
       "      <th>2</th>\n",
       "      <td>BMW</td>\n",
       "      <td>1 Series</td>\n",
       "      <td>2011</td>\n",
       "      <td>300.0</td>\n",
       "      <td>6.0</td>\n",
       "      <td>MANUAL</td>\n",
       "      <td>Coupe</td>\n",
       "      <td>28</td>\n",
       "      <td>20</td>\n",
       "      <td>36350</td>\n",
       "    </tr>\n",
       "    <tr>\n",
       "      <th>3</th>\n",
       "      <td>BMW</td>\n",
       "      <td>1 Series</td>\n",
       "      <td>2011</td>\n",
       "      <td>230.0</td>\n",
       "      <td>6.0</td>\n",
       "      <td>MANUAL</td>\n",
       "      <td>Coupe</td>\n",
       "      <td>28</td>\n",
       "      <td>18</td>\n",
       "      <td>29450</td>\n",
       "    </tr>\n",
       "    <tr>\n",
       "      <th>4</th>\n",
       "      <td>BMW</td>\n",
       "      <td>1 Series</td>\n",
       "      <td>2011</td>\n",
       "      <td>230.0</td>\n",
       "      <td>6.0</td>\n",
       "      <td>MANUAL</td>\n",
       "      <td>Convertible</td>\n",
       "      <td>28</td>\n",
       "      <td>18</td>\n",
       "      <td>34500</td>\n",
       "    </tr>\n",
       "  </tbody>\n",
       "</table>\n",
       "</div>"
      ],
      "text/plain": [
       "  Make       Model  Year  Engine HP  Engine Cylinders Transmission Type  \\\n",
       "0  BMW  1 Series M  2011      335.0               6.0            MANUAL   \n",
       "1  BMW    1 Series  2011      300.0               6.0            MANUAL   \n",
       "2  BMW    1 Series  2011      300.0               6.0            MANUAL   \n",
       "3  BMW    1 Series  2011      230.0               6.0            MANUAL   \n",
       "4  BMW    1 Series  2011      230.0               6.0            MANUAL   \n",
       "\n",
       "  Vehicle Style  highway MPG  city mpg   MSRP  \n",
       "0         Coupe           26        19  46135  \n",
       "1   Convertible           28        19  40650  \n",
       "2         Coupe           28        20  36350  \n",
       "3         Coupe           28        18  29450  \n",
       "4   Convertible           28        18  34500  "
      ]
     },
     "execution_count": 4,
     "metadata": {},
     "output_type": "execute_result"
    }
   ],
   "source": [
    "data.head()"
   ]
  },
  {
   "cell_type": "markdown",
   "id": "38a9d0d6",
   "metadata": {
    "papermill": {
     "duration": 0.004346,
     "end_time": "2023-10-08T10:21:11.031903",
     "exception": false,
     "start_time": "2023-10-08T10:21:11.027557",
     "status": "completed"
    },
    "tags": []
   },
   "source": [
    "# **Data preparation**"
   ]
  },
  {
   "cell_type": "code",
   "execution_count": 5,
   "id": "53379a11",
   "metadata": {
    "execution": {
     "iopub.execute_input": "2023-10-08T10:21:11.044808Z",
     "iopub.status.busy": "2023-10-08T10:21:11.044017Z",
     "iopub.status.idle": "2023-10-08T10:21:11.054201Z",
     "shell.execute_reply": "2023-10-08T10:21:11.052698Z"
    },
    "papermill": {
     "duration": 0.020755,
     "end_time": "2023-10-08T10:21:11.057240",
     "exception": false,
     "start_time": "2023-10-08T10:21:11.036485",
     "status": "completed"
    },
    "tags": []
   },
   "outputs": [],
   "source": [
    "data.columns = data.columns.str.replace(' ', '_').str.lower()\n",
    "\n",
    "# Fill missing values with 0\n",
    "data.fillna(0, inplace=True)"
   ]
  },
  {
   "cell_type": "code",
   "execution_count": 6,
   "id": "8e7677c7",
   "metadata": {
    "execution": {
     "iopub.execute_input": "2023-10-08T10:21:11.070321Z",
     "iopub.status.busy": "2023-10-08T10:21:11.069723Z",
     "iopub.status.idle": "2023-10-08T10:21:11.076710Z",
     "shell.execute_reply": "2023-10-08T10:21:11.075380Z"
    },
    "papermill": {
     "duration": 0.017623,
     "end_time": "2023-10-08T10:21:11.080266",
     "exception": false,
     "start_time": "2023-10-08T10:21:11.062643",
     "status": "completed"
    },
    "tags": []
   },
   "outputs": [],
   "source": [
    "# Create a binary variable above_average\n",
    "data['above_average'] = (data['msrp'] > data['msrp'].mean()).astype(int)"
   ]
  },
  {
   "cell_type": "code",
   "execution_count": 7,
   "id": "cbf8197d",
   "metadata": {
    "execution": {
     "iopub.execute_input": "2023-10-08T10:21:11.098743Z",
     "iopub.status.busy": "2023-10-08T10:21:11.096862Z",
     "iopub.status.idle": "2023-10-08T10:21:11.112005Z",
     "shell.execute_reply": "2023-10-08T10:21:11.110860Z"
    },
    "papermill": {
     "duration": 0.026005,
     "end_time": "2023-10-08T10:21:11.114744",
     "exception": false,
     "start_time": "2023-10-08T10:21:11.088739",
     "status": "completed"
    },
    "tags": []
   },
   "outputs": [],
   "source": [
    "# Split the data into train, validation, and test sets\n",
    "X = data.drop(columns=['above_average', 'msrp'])\n",
    "y = data['above_average']\n",
    "X_train, X_temp, y_train, y_temp = train_test_split(X, y, test_size=0.4, random_state=1)\n",
    "X_val, X_test, y_val, y_test = train_test_split(X_temp, y_temp, test_size=0.5, random_state=1)"
   ]
  },
  {
   "cell_type": "code",
   "execution_count": 8,
   "id": "b2626f8a",
   "metadata": {
    "execution": {
     "iopub.execute_input": "2023-10-08T10:21:11.128258Z",
     "iopub.status.busy": "2023-10-08T10:21:11.126873Z",
     "iopub.status.idle": "2023-10-08T10:21:11.135069Z",
     "shell.execute_reply": "2023-10-08T10:21:11.133191Z"
    },
    "papermill": {
     "duration": 0.017435,
     "end_time": "2023-10-08T10:21:11.137851",
     "exception": false,
     "start_time": "2023-10-08T10:21:11.120416",
     "status": "completed"
    },
    "tags": []
   },
   "outputs": [
    {
     "name": "stdout",
     "output_type": "stream",
     "text": [
      "Train set shape: (7148, 9) (7148,)\n",
      "Validation set shape: (2383, 9) (2383,)\n",
      "Test set shape: (2383, 9) (2383,)\n"
     ]
    }
   ],
   "source": [
    "# Display the shapes of the resulting sets\n",
    "print(\"Train set shape:\", X_train.shape, y_train.shape)\n",
    "print(\"Validation set shape:\", X_val.shape, y_val.shape)\n",
    "print(\"Test set shape:\", X_test.shape, y_test.shape)"
   ]
  },
  {
   "cell_type": "markdown",
   "id": "478b8382",
   "metadata": {
    "papermill": {
     "duration": 0.005196,
     "end_time": "2023-10-08T10:21:11.148629",
     "exception": false,
     "start_time": "2023-10-08T10:21:11.143433",
     "status": "completed"
    },
    "tags": []
   },
   "source": [
    "# **Question 1: ROC AUC feature importance**"
   ]
  },
  {
   "cell_type": "code",
   "execution_count": 9,
   "id": "4582de98",
   "metadata": {
    "execution": {
     "iopub.execute_input": "2023-10-08T10:21:11.164564Z",
     "iopub.status.busy": "2023-10-08T10:21:11.164093Z",
     "iopub.status.idle": "2023-10-08T10:21:11.203515Z",
     "shell.execute_reply": "2023-10-08T10:21:11.202537Z"
    },
    "papermill": {
     "duration": 0.051689,
     "end_time": "2023-10-08T10:21:11.207377",
     "exception": false,
     "start_time": "2023-10-08T10:21:11.155688",
     "status": "completed"
    },
    "tags": []
   },
   "outputs": [
    {
     "name": "stdout",
     "output_type": "stream",
     "text": [
      "The numerical variable with the highest AUC is engine_hp with AUC = 0.9159001518508375\n"
     ]
    }
   ],
   "source": [
    "# Initialize a dictionary to store AUC scores\n",
    "auc_scores = {}\n",
    "\n",
    "# Loop through each numerical variable and compute ROC AUC\n",
    "numerical_variables = ['engine_hp', 'engine_cylinders', 'highway_mpg', 'city_mpg']\n",
    "\n",
    "for variable in numerical_variables:\n",
    "    auc = roc_auc_score(y_train, X_train[variable])\n",
    "    \n",
    "    # If AUC < 0.5, invert the variable\n",
    "    if auc < 0.5:\n",
    "        auc = roc_auc_score(y_train, -X_train[variable])\n",
    "    \n",
    "    auc_scores[variable] = auc\n",
    "\n",
    "# Find the variable with the highest AUC\n",
    "highest_auc_variable = max(auc_scores, key=auc_scores.get)\n",
    "\n",
    "print(f\"The numerical variable with the highest AUC is {highest_auc_variable} with AUC = {auc_scores[highest_auc_variable]}\")"
   ]
  },
  {
   "cell_type": "markdown",
   "id": "155cb6e2",
   "metadata": {
    "papermill": {
     "duration": 0.009267,
     "end_time": "2023-10-08T10:21:11.227896",
     "exception": false,
     "start_time": "2023-10-08T10:21:11.218629",
     "status": "completed"
    },
    "tags": []
   },
   "source": [
    "# **Question 2: Training the model**"
   ]
  },
  {
   "cell_type": "code",
   "execution_count": 10,
   "id": "b24ebfa0",
   "metadata": {
    "execution": {
     "iopub.execute_input": "2023-10-08T10:21:11.246772Z",
     "iopub.status.busy": "2023-10-08T10:21:11.245729Z",
     "iopub.status.idle": "2023-10-08T10:21:11.654798Z",
     "shell.execute_reply": "2023-10-08T10:21:11.653256Z"
    },
    "papermill": {
     "duration": 0.424878,
     "end_time": "2023-10-08T10:21:11.661981",
     "exception": false,
     "start_time": "2023-10-08T10:21:11.237103",
     "status": "completed"
    },
    "tags": []
   },
   "outputs": [
    {
     "name": "stdout",
     "output_type": "stream",
     "text": [
      "0.982\n"
     ]
    }
   ],
   "source": [
    "# Convert categorical variables to a dictionary\n",
    "X_train_dict = X_train.to_dict(orient='records')\n",
    "X_val_dict = X_val.to_dict(orient='records')\n",
    "\n",
    "# Initialize and fit DictVectorizer\n",
    "vectorizer = DictVectorizer(sparse=False)\n",
    "X_train_encoded = vectorizer.fit_transform(X_train_dict)\n",
    "X_val_encoded = vectorizer.transform(X_val_dict)\n",
    "\n",
    "# Initialize and train logistic regression model\n",
    "model = LogisticRegression(solver='liblinear', C=1.0, max_iter=1000)\n",
    "model.fit(X_train_encoded, y_train)\n",
    "\n",
    "# Predict probabilities on the validation set\n",
    "y_val_pred_prob = model.predict_proba(X_val_encoded)[:, 1]\n",
    "\n",
    "# Calculate the AUC score\n",
    "auc_score = roc_auc_score(y_val, y_val_pred_prob)\n",
    "\n",
    "# Print the AUC score rounded to 3 digits\n",
    "print(round(auc_score, 3))"
   ]
  },
  {
   "cell_type": "markdown",
   "id": "f23a7ce0",
   "metadata": {
    "papermill": {
     "duration": 0.015568,
     "end_time": "2023-10-08T10:21:11.693928",
     "exception": false,
     "start_time": "2023-10-08T10:21:11.678360",
     "status": "completed"
    },
    "tags": []
   },
   "source": [
    "# **Question 3: Precision and Recall**"
   ]
  },
  {
   "cell_type": "code",
   "execution_count": 11,
   "id": "1cc09957",
   "metadata": {
    "execution": {
     "iopub.execute_input": "2023-10-08T10:21:11.731240Z",
     "iopub.status.busy": "2023-10-08T10:21:11.730574Z",
     "iopub.status.idle": "2023-10-08T10:21:12.611617Z",
     "shell.execute_reply": "2023-10-08T10:21:12.610532Z"
    },
    "papermill": {
     "duration": 0.903074,
     "end_time": "2023-10-08T10:21:12.615039",
     "exception": false,
     "start_time": "2023-10-08T10:21:11.711965",
     "status": "completed"
    },
    "tags": []
   },
   "outputs": [
    {
     "data": {
      "image/png": "[encoded data removed]",
      "text/plain": [
       "<Figure size 800x600 with 1 Axes>"
      ]
     },
     "metadata": {},
     "output_type": "display_data"
    },
    {
     "name": "stdout",
     "output_type": "stream",
     "text": [
      "Threshold where precision and recall intersect: 0.49\n"
     ]
    }
   ],
   "source": [
    "# Initialize an array of thresholds from 0.0 to 1.0 with step 0.01\n",
    "thresholds = np.arange(0.0, 1.0, 0.01)\n",
    "\n",
    "# Initialize empty lists to store precision and recall values\n",
    "precision_scores = []\n",
    "recall_scores = []\n",
    "\n",
    "# Calculate precision and recall for each threshold\n",
    "for threshold in thresholds:\n",
    "    y_val_pred_threshold = (y_val_pred_prob >= threshold).astype(int)\n",
    "    precision = precision_score(y_val, y_val_pred_threshold)\n",
    "    recall = recall_score(y_val, y_val_pred_threshold)\n",
    "    precision_scores.append(precision)\n",
    "    recall_scores.append(recall)\n",
    "\n",
    "# Plot precision and recall curves\n",
    "plt.figure(figsize=(8, 6))\n",
    "plt.plot(thresholds, precision_scores, label='Precision', color='blue')\n",
    "plt.plot(thresholds, recall_scores, label='Recall', color='green')\n",
    "plt.xlabel('Threshold')\n",
    "plt.ylabel('Score')\n",
    "plt.title('Precision-Recall Curve')\n",
    "plt.legend()\n",
    "plt.grid(True)\n",
    "plt.show()\n",
    "\n",
    "# Find the threshold where precision and recall curves intersect\n",
    "intersection_threshold = thresholds[np.argmin(np.abs(np.array(precision_scores) - np.array(recall_scores)))]\n",
    "\n",
    "print(\"Threshold where precision and recall intersect:\", intersection_threshold)"
   ]
  },
  {
   "cell_type": "markdown",
   "id": "a2e1162d",
   "metadata": {
    "papermill": {
     "duration": 0.005406,
     "end_time": "2023-10-08T10:21:12.626760",
     "exception": false,
     "start_time": "2023-10-08T10:21:12.621354",
     "status": "completed"
    },
    "tags": []
   },
   "source": [
    "# **Question 4: F1 score**"
   ]
  },
  {
   "cell_type": "code",
   "execution_count": 12,
   "id": "981a0c15",
   "metadata": {
    "execution": {
     "iopub.execute_input": "2023-10-08T10:21:12.639407Z",
     "iopub.status.busy": "2023-10-08T10:21:12.639042Z",
     "iopub.status.idle": "2023-10-08T10:21:12.885136Z",
     "shell.execute_reply": "2023-10-08T10:21:12.883940Z"
    },
    "papermill": {
     "duration": 0.255037,
     "end_time": "2023-10-08T10:21:12.887319",
     "exception": false,
     "start_time": "2023-10-08T10:21:12.632282",
     "status": "completed"
    },
    "tags": []
   },
   "outputs": [
    {
     "name": "stdout",
     "output_type": "stream",
     "text": [
      "Threshold where F1 is maximal: 0.47\n"
     ]
    }
   ],
   "source": [
    "from sklearn.metrics import f1_score\n",
    "\n",
    "# Initialize empty list to store F1 scores\n",
    "f1_scores = []\n",
    "\n",
    "# Calculate F1 score for each threshold\n",
    "for threshold in thresholds:\n",
    "    y_val_pred_threshold = (y_val_pred_prob >= threshold).astype(int)\n",
    "    f1 = f1_score(y_val, y_val_pred_threshold)\n",
    "    f1_scores.append(f1)\n",
    "\n",
    "# Find the threshold where F1 is maximal\n",
    "max_f1 = max(f1_scores)\n",
    "max_f1_threshold = thresholds[f1_scores.index(max_f1)]\n",
    "\n",
    "print(\"Threshold where F1 is maximal:\", round(max_f1_threshold, 3))"
   ]
  },
  {
   "cell_type": "markdown",
   "id": "ef13c4e7",
   "metadata": {
    "papermill": {
     "duration": 0.006483,
     "end_time": "2023-10-08T10:21:12.901166",
     "exception": false,
     "start_time": "2023-10-08T10:21:12.894683",
     "status": "completed"
    },
    "tags": []
   },
   "source": [
    "# **Question 5: 5-Fold CV**"
   ]
  },
  {
   "cell_type": "code",
   "execution_count": 13,
   "id": "6cb71721",
   "metadata": {
    "execution": {
     "iopub.execute_input": "2023-10-08T10:21:12.916672Z",
     "iopub.status.busy": "2023-10-08T10:21:12.915674Z",
     "iopub.status.idle": "2023-10-08T10:21:15.492908Z",
     "shell.execute_reply": "2023-10-08T10:21:15.491533Z"
    },
    "papermill": {
     "duration": 2.590934,
     "end_time": "2023-10-08T10:21:15.498433",
     "exception": false,
     "start_time": "2023-10-08T10:21:12.907499",
     "status": "completed"
    },
    "tags": []
   },
   "outputs": [
    {
     "name": "stdout",
     "output_type": "stream",
     "text": [
      "Standard Deviation of AUC Scores: 0.002\n"
     ]
    }
   ],
   "source": [
    "from sklearn.model_selection import KFold\n",
    "from sklearn.metrics import roc_auc_score\n",
    "\n",
    "# Initialize KFold with 5 splits, shuffle, and a random seed\n",
    "kf = KFold(n_splits=5, shuffle=True, random_state=1)\n",
    "\n",
    "# Initialize an empty list to store AUC scores\n",
    "auc_scores = []\n",
    "\n",
    "# Iterate over different folds\n",
    "for train_index, val_index in kf.split(X):\n",
    "    X_train_fold, X_val_fold = X.iloc[train_index], X.iloc[val_index]\n",
    "    y_train_fold, y_val_fold = y.iloc[train_index], y.iloc[val_index]\n",
    "\n",
    "    # Convert categorical variables to a dictionary\n",
    "    X_train_fold_dict = X_train_fold.to_dict(orient='records')\n",
    "    X_val_fold_dict = X_val_fold.to_dict(orient='records')\n",
    "\n",
    "    # Initialize and fit DictVectorizer\n",
    "    vectorizer_fold = DictVectorizer(sparse=False)\n",
    "    X_train_fold_encoded = vectorizer_fold.fit_transform(X_train_fold_dict)\n",
    "    X_val_fold_encoded = vectorizer_fold.transform(X_val_fold_dict)\n",
    "\n",
    "    # Initialize and train logistic regression model\n",
    "    model_fold = LogisticRegression(solver='liblinear', C=1.0, max_iter=1000)\n",
    "    model_fold.fit(X_train_fold_encoded, y_train_fold)\n",
    "\n",
    "    # Predict probabilities on the validation set\n",
    "    y_val_pred_prob_fold = model_fold.predict_proba(X_val_fold_encoded)[:, 1]\n",
    "\n",
    "    # Calculate the AUC score and store it\n",
    "    auc_score_fold = roc_auc_score(y_val_fold, y_val_pred_prob_fold)\n",
    "    auc_scores.append(auc_score_fold)\n",
    "\n",
    "# Calculate the standard deviation of AUC scores across different folds\n",
    "std_deviation_auc = np.std(auc_scores)\n",
    "\n",
    "print(\"Standard Deviation of AUC Scores:\", round(std_deviation_auc, 3))"
   ]
  },
  {
   "cell_type": "markdown",
   "id": "0ecc8a11",
   "metadata": {
    "papermill": {
     "duration": 0.016251,
     "end_time": "2023-10-08T10:21:15.533312",
     "exception": false,
     "start_time": "2023-10-08T10:21:15.517061",
     "status": "completed"
    },
    "tags": []
   },
   "source": [
    "# **Question 6: Hyperparemeter Tuning**"
   ]
  },
  {
   "cell_type": "code",
   "execution_count": 14,
   "id": "a891ed71",
   "metadata": {
    "execution": {
     "iopub.execute_input": "2023-10-08T10:21:15.569811Z",
     "iopub.status.busy": "2023-10-08T10:21:15.568921Z",
     "iopub.status.idle": "2023-10-08T10:21:18.515542Z",
     "shell.execute_reply": "2023-10-08T10:21:18.513726Z"
    },
    "papermill": {
     "duration": 2.970851,
     "end_time": "2023-10-08T10:21:18.519979",
     "exception": false,
     "start_time": "2023-10-08T10:21:15.549128",
     "status": "completed"
    },
    "tags": []
   },
   "outputs": [
    {
     "name": "stdout",
     "output_type": "stream",
     "text": [
      "Best C: 10\n"
     ]
    }
   ],
   "source": [
    "from sklearn.model_selection import cross_val_score\n",
    "\n",
    "# Define the C values to iterate over\n",
    "C_values = [0.01, 0.1, 0.5, 10]\n",
    "\n",
    "# Initialize KFold with the same parameters as previously\n",
    "kf = KFold(n_splits=5, shuffle=True, random_state=1)\n",
    "\n",
    "# Initialize variables to track the best C, mean score, and std\n",
    "best_C = None\n",
    "best_mean_score = -1  # Initialize to a low value\n",
    "best_std = float('inf')  # Initialize to positive infinity\n",
    "\n",
    "# Iterate over different C values\n",
    "for C in C_values:\n",
    "    # Initialize and train logistic regression model with the current C value\n",
    "    model_cv = LogisticRegression(solver='liblinear', C=C, max_iter=1000)\n",
    "    \n",
    "    # Perform cross-validation and get AUC scores for each fold\n",
    "    auc_scores_cv = cross_val_score(model_cv, X_train_encoded, y_train, cv=kf, scoring='roc_auc')\n",
    "    \n",
    "    # Calculate the mean and standard deviation of AUC scores\n",
    "    mean_score = np.mean(auc_scores_cv)\n",
    "    std_score = np.std(auc_scores_cv)\n",
    "    \n",
    "    # Check if the current C leads to a better mean score or if it's a tie with lower std\n",
    "    if mean_score > best_mean_score or (mean_score == best_mean_score and std_score < best_std):\n",
    "        best_C = C\n",
    "        best_mean_score = mean_score\n",
    "        best_std = std_score\n",
    "\n",
    "# Print the best C value\n",
    "print(\"Best C:\", best_C)"
   ]
  }
 ],
 "metadata": {
  "kernelspec": {
   "display_name": "Python 3",
   "language": "python",
   "name": "python3"
  },
  "language_info": {
   "codemirror_mode": {
    "name": "ipython",
    "version": 3
   },
   "file_extension": ".py",
   "mimetype": "text/x-python",
   "name": "python",
   "nbconvert_exporter": "python",
   "pygments_lexer": "ipython3",
   "version": "3.10.12"
  },
  "papermill": {
   "default_parameters": {},
   "duration": 15.617465,
   "end_time": "2023-10-08T10:21:19.373431",
   "environment_variables": {},
   "exception": null,
   "input_path": "__notebook__.ipynb",
   "output_path": "__notebook__.ipynb",
   "parameters": {},
   "start_time": "2023-10-08T10:21:03.755966",
   "version": "2.4.0"
  }
 },
 "nbformat": 4,
 "nbformat_minor": 5
}
