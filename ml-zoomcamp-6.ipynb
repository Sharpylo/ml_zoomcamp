{
 "cells": [
  {
   "cell_type": "code",
   "execution_count": 1,
   "id": "0e8f9a1e",
   "metadata": {
    "_cell_guid": "b1076dfc-b9ad-4769-8c92-a6c4dae69d19",
    "_uuid": "8f2839f25d086af736a60e9eeb907d3b93b6e0e5",
    "execution": {
     "iopub.execute_input": "2023-10-22T10:24:29.621159Z",
     "iopub.status.busy": "2023-10-22T10:24:29.619782Z",
     "iopub.status.idle": "2023-10-22T10:24:32.263675Z",
     "shell.execute_reply": "2023-10-22T10:24:32.262454Z"
    },
    "papermill": {
     "duration": 2.657592,
     "end_time": "2023-10-22T10:24:32.266548",
     "exception": false,
     "start_time": "2023-10-22T10:24:29.608956",
     "status": "completed"
    },
    "tags": []
   },
   "outputs": [],
   "source": [
    "import pandas as pd\n",
    "import numpy as np\n",
    "\n",
    "from sklearn.model_selection import train_test_split\n",
    "from sklearn.tree import DecisionTreeRegressor\n",
    "from sklearn.ensemble import RandomForestRegressor\n",
    "from sklearn.metrics import mean_squared_error\n",
    "\n",
    "import seaborn as sns\n",
    "from matplotlib import pyplot as plt\n",
    "%matplotlib inline"
   ]
  },
  {
   "cell_type": "code",
   "execution_count": 2,
   "id": "b35d0619",
   "metadata": {
    "execution": {
     "iopub.execute_input": "2023-10-22T10:24:32.286051Z",
     "iopub.status.busy": "2023-10-22T10:24:32.284745Z",
     "iopub.status.idle": "2023-10-22T10:24:32.525365Z",
     "shell.execute_reply": "2023-10-22T10:24:32.524302Z"
    },
    "papermill": {
     "duration": 0.253433,
     "end_time": "2023-10-22T10:24:32.528475",
     "exception": false,
     "start_time": "2023-10-22T10:24:32.275042",
     "status": "completed"
    },
    "tags": []
   },
   "outputs": [],
   "source": [
    "url = \"https://raw.githubusercontent.com/alexeygrigorev/datasets/master/housing.csv\"\n",
    "data = pd.read_csv(url)"
   ]
  },
  {
   "cell_type": "code",
   "execution_count": 3,
   "id": "a7a6f373",
   "metadata": {
    "execution": {
     "iopub.execute_input": "2023-10-22T10:24:32.547055Z",
     "iopub.status.busy": "2023-10-22T10:24:32.546674Z",
     "iopub.status.idle": "2023-10-22T10:24:32.587825Z",
     "shell.execute_reply": "2023-10-22T10:24:32.587004Z"
    },
    "papermill": {
     "duration": 0.053773,
     "end_time": "2023-10-22T10:24:32.590742",
     "exception": false,
     "start_time": "2023-10-22T10:24:32.536969",
     "status": "completed"
    },
    "tags": []
   },
   "outputs": [
    {
     "data": {
      "text/html": [
       "<div>\n",
       "<style scoped>\n",
       "    .dataframe tbody tr th:only-of-type {\n",
       "        vertical-align: middle;\n",
       "    }\n",
       "\n",
       "    .dataframe tbody tr th {\n",
       "        vertical-align: top;\n",
       "    }\n",
       "\n",
       "    .dataframe thead th {\n",
       "        text-align: right;\n",
       "    }\n",
       "</style>\n",
       "<table border=\"1\" class=\"dataframe\">\n",
       "  <thead>\n",
       "    <tr style=\"text-align: right;\">\n",
       "      <th></th>\n",
       "      <th>longitude</th>\n",
       "      <th>latitude</th>\n",
       "      <th>housing_median_age</th>\n",
       "      <th>total_rooms</th>\n",
       "      <th>total_bedrooms</th>\n",
       "      <th>population</th>\n",
       "      <th>households</th>\n",
       "      <th>median_income</th>\n",
       "      <th>median_house_value</th>\n",
       "      <th>ocean_proximity</th>\n",
       "    </tr>\n",
       "  </thead>\n",
       "  <tbody>\n",
       "    <tr>\n",
       "      <th>0</th>\n",
       "      <td>-122.23</td>\n",
       "      <td>37.88</td>\n",
       "      <td>41.0</td>\n",
       "      <td>880.0</td>\n",
       "      <td>129.0</td>\n",
       "      <td>322.0</td>\n",
       "      <td>126.0</td>\n",
       "      <td>8.3252</td>\n",
       "      <td>452600.0</td>\n",
       "      <td>NEAR BAY</td>\n",
       "    </tr>\n",
       "    <tr>\n",
       "      <th>1</th>\n",
       "      <td>-122.22</td>\n",
       "      <td>37.86</td>\n",
       "      <td>21.0</td>\n",
       "      <td>7099.0</td>\n",
       "      <td>1106.0</td>\n",
       "      <td>2401.0</td>\n",
       "      <td>1138.0</td>\n",
       "      <td>8.3014</td>\n",
       "      <td>358500.0</td>\n",
       "      <td>NEAR BAY</td>\n",
       "    </tr>\n",
       "    <tr>\n",
       "      <th>2</th>\n",
       "      <td>-122.24</td>\n",
       "      <td>37.85</td>\n",
       "      <td>52.0</td>\n",
       "      <td>1467.0</td>\n",
       "      <td>190.0</td>\n",
       "      <td>496.0</td>\n",
       "      <td>177.0</td>\n",
       "      <td>7.2574</td>\n",
       "      <td>352100.0</td>\n",
       "      <td>NEAR BAY</td>\n",
       "    </tr>\n",
       "    <tr>\n",
       "      <th>3</th>\n",
       "      <td>-122.25</td>\n",
       "      <td>37.85</td>\n",
       "      <td>52.0</td>\n",
       "      <td>1274.0</td>\n",
       "      <td>235.0</td>\n",
       "      <td>558.0</td>\n",
       "      <td>219.0</td>\n",
       "      <td>5.6431</td>\n",
       "      <td>341300.0</td>\n",
       "      <td>NEAR BAY</td>\n",
       "    </tr>\n",
       "    <tr>\n",
       "      <th>4</th>\n",
       "      <td>-122.25</td>\n",
       "      <td>37.85</td>\n",
       "      <td>52.0</td>\n",
       "      <td>1627.0</td>\n",
       "      <td>280.0</td>\n",
       "      <td>565.0</td>\n",
       "      <td>259.0</td>\n",
       "      <td>3.8462</td>\n",
       "      <td>342200.0</td>\n",
       "      <td>NEAR BAY</td>\n",
       "    </tr>\n",
       "    <tr>\n",
       "      <th>...</th>\n",
       "      <td>...</td>\n",
       "      <td>...</td>\n",
       "      <td>...</td>\n",
       "      <td>...</td>\n",
       "      <td>...</td>\n",
       "      <td>...</td>\n",
       "      <td>...</td>\n",
       "      <td>...</td>\n",
       "      <td>...</td>\n",
       "      <td>...</td>\n",
       "    </tr>\n",
       "    <tr>\n",
       "      <th>20635</th>\n",
       "      <td>-121.09</td>\n",
       "      <td>39.48</td>\n",
       "      <td>25.0</td>\n",
       "      <td>1665.0</td>\n",
       "      <td>374.0</td>\n",
       "      <td>845.0</td>\n",
       "      <td>330.0</td>\n",
       "      <td>1.5603</td>\n",
       "      <td>78100.0</td>\n",
       "      <td>INLAND</td>\n",
       "    </tr>\n",
       "    <tr>\n",
       "      <th>20636</th>\n",
       "      <td>-121.21</td>\n",
       "      <td>39.49</td>\n",
       "      <td>18.0</td>\n",
       "      <td>697.0</td>\n",
       "      <td>150.0</td>\n",
       "      <td>356.0</td>\n",
       "      <td>114.0</td>\n",
       "      <td>2.5568</td>\n",
       "      <td>77100.0</td>\n",
       "      <td>INLAND</td>\n",
       "    </tr>\n",
       "    <tr>\n",
       "      <th>20637</th>\n",
       "      <td>-121.22</td>\n",
       "      <td>39.43</td>\n",
       "      <td>17.0</td>\n",
       "      <td>2254.0</td>\n",
       "      <td>485.0</td>\n",
       "      <td>1007.0</td>\n",
       "      <td>433.0</td>\n",
       "      <td>1.7000</td>\n",
       "      <td>92300.0</td>\n",
       "      <td>INLAND</td>\n",
       "    </tr>\n",
       "    <tr>\n",
       "      <th>20638</th>\n",
       "      <td>-121.32</td>\n",
       "      <td>39.43</td>\n",
       "      <td>18.0</td>\n",
       "      <td>1860.0</td>\n",
       "      <td>409.0</td>\n",
       "      <td>741.0</td>\n",
       "      <td>349.0</td>\n",
       "      <td>1.8672</td>\n",
       "      <td>84700.0</td>\n",
       "      <td>INLAND</td>\n",
       "    </tr>\n",
       "    <tr>\n",
       "      <th>20639</th>\n",
       "      <td>-121.24</td>\n",
       "      <td>39.37</td>\n",
       "      <td>16.0</td>\n",
       "      <td>2785.0</td>\n",
       "      <td>616.0</td>\n",
       "      <td>1387.0</td>\n",
       "      <td>530.0</td>\n",
       "      <td>2.3886</td>\n",
       "      <td>89400.0</td>\n",
       "      <td>INLAND</td>\n",
       "    </tr>\n",
       "  </tbody>\n",
       "</table>\n",
       "<p>20640 rows × 10 columns</p>\n",
       "</div>"
      ],
      "text/plain": [
       "       longitude  latitude  housing_median_age  total_rooms  total_bedrooms  \\\n",
       "0        -122.23     37.88                41.0        880.0           129.0   \n",
       "1        -122.22     37.86                21.0       7099.0          1106.0   \n",
       "2        -122.24     37.85                52.0       1467.0           190.0   \n",
       "3        -122.25     37.85                52.0       1274.0           235.0   \n",
       "4        -122.25     37.85                52.0       1627.0           280.0   \n",
       "...          ...       ...                 ...          ...             ...   \n",
       "20635    -121.09     39.48                25.0       1665.0           374.0   \n",
       "20636    -121.21     39.49                18.0        697.0           150.0   \n",
       "20637    -121.22     39.43                17.0       2254.0           485.0   \n",
       "20638    -121.32     39.43                18.0       1860.0           409.0   \n",
       "20639    -121.24     39.37                16.0       2785.0           616.0   \n",
       "\n",
       "       population  households  median_income  median_house_value  \\\n",
       "0           322.0       126.0         8.3252            452600.0   \n",
       "1          2401.0      1138.0         8.3014            358500.0   \n",
       "2           496.0       177.0         7.2574            352100.0   \n",
       "3           558.0       219.0         5.6431            341300.0   \n",
       "4           565.0       259.0         3.8462            342200.0   \n",
       "...           ...         ...            ...                 ...   \n",
       "20635       845.0       330.0         1.5603             78100.0   \n",
       "20636       356.0       114.0         2.5568             77100.0   \n",
       "20637      1007.0       433.0         1.7000             92300.0   \n",
       "20638       741.0       349.0         1.8672             84700.0   \n",
       "20639      1387.0       530.0         2.3886             89400.0   \n",
       "\n",
       "      ocean_proximity  \n",
       "0            NEAR BAY  \n",
       "1            NEAR BAY  \n",
       "2            NEAR BAY  \n",
       "3            NEAR BAY  \n",
       "4            NEAR BAY  \n",
       "...               ...  \n",
       "20635          INLAND  \n",
       "20636          INLAND  \n",
       "20637          INLAND  \n",
       "20638          INLAND  \n",
       "20639          INLAND  \n",
       "\n",
       "[20640 rows x 10 columns]"
      ]
     },
     "execution_count": 3,
     "metadata": {},
     "output_type": "execute_result"
    }
   ],
   "source": [
    "data"
   ]
  },
  {
   "cell_type": "markdown",
   "id": "d6bfc9b8",
   "metadata": {
    "papermill": {
     "duration": 0.008346,
     "end_time": "2023-10-22T10:24:32.607899",
     "exception": false,
     "start_time": "2023-10-22T10:24:32.599553",
     "status": "completed"
    },
    "tags": []
   },
   "source": [
    "# **Preparing the dataset**"
   ]
  },
  {
   "cell_type": "code",
   "execution_count": 4,
   "id": "8eeb0cec",
   "metadata": {
    "execution": {
     "iopub.execute_input": "2023-10-22T10:24:32.629028Z",
     "iopub.status.busy": "2023-10-22T10:24:32.628352Z",
     "iopub.status.idle": "2023-10-22T10:24:32.632839Z",
     "shell.execute_reply": "2023-10-22T10:24:32.631738Z"
    },
    "papermill": {
     "duration": 0.017566,
     "end_time": "2023-10-22T10:24:32.635279",
     "exception": false,
     "start_time": "2023-10-22T10:24:32.617713",
     "status": "completed"
    },
    "tags": []
   },
   "outputs": [],
   "source": [
    "category_mapping = {\n",
    "    '<1H OCEAN': 0,\n",
    "    'INLAND': 1\n",
    "}"
   ]
  },
  {
   "cell_type": "code",
   "execution_count": 5,
   "id": "bba67f55",
   "metadata": {
    "execution": {
     "iopub.execute_input": "2023-10-22T10:24:32.654651Z",
     "iopub.status.busy": "2023-10-22T10:24:32.654267Z",
     "iopub.status.idle": "2023-10-22T10:24:32.729200Z",
     "shell.execute_reply": "2023-10-22T10:24:32.728041Z"
    },
    "papermill": {
     "duration": 0.08804,
     "end_time": "2023-10-22T10:24:32.732160",
     "exception": false,
     "start_time": "2023-10-22T10:24:32.644120",
     "status": "completed"
    },
    "tags": []
   },
   "outputs": [],
   "source": [
    "df = data[(data['ocean_proximity'] == 'INLAND') | (data['ocean_proximity'] == '<1H OCEAN')]\n",
    "df.loc[:, 'ocean_proximity'] = df['ocean_proximity'].map(category_mapping)\n",
    "df = df.fillna(0)\n",
    "df['median_house_value'] = df['median_house_value'].apply(lambda x: np.log(x))\n",
    "df.reset_index(drop= True , inplace= True )"
   ]
  },
  {
   "cell_type": "code",
   "execution_count": 6,
   "id": "5e069480",
   "metadata": {
    "execution": {
     "iopub.execute_input": "2023-10-22T10:24:32.751950Z",
     "iopub.status.busy": "2023-10-22T10:24:32.751198Z",
     "iopub.status.idle": "2023-10-22T10:24:32.778553Z",
     "shell.execute_reply": "2023-10-22T10:24:32.777717Z"
    },
    "papermill": {
     "duration": 0.039676,
     "end_time": "2023-10-22T10:24:32.780816",
     "exception": false,
     "start_time": "2023-10-22T10:24:32.741140",
     "status": "completed"
    },
    "tags": []
   },
   "outputs": [
    {
     "data": {
      "text/html": [
       "<div>\n",
       "<style scoped>\n",
       "    .dataframe tbody tr th:only-of-type {\n",
       "        vertical-align: middle;\n",
       "    }\n",
       "\n",
       "    .dataframe tbody tr th {\n",
       "        vertical-align: top;\n",
       "    }\n",
       "\n",
       "    .dataframe thead th {\n",
       "        text-align: right;\n",
       "    }\n",
       "</style>\n",
       "<table border=\"1\" class=\"dataframe\">\n",
       "  <thead>\n",
       "    <tr style=\"text-align: right;\">\n",
       "      <th></th>\n",
       "      <th>longitude</th>\n",
       "      <th>latitude</th>\n",
       "      <th>housing_median_age</th>\n",
       "      <th>total_rooms</th>\n",
       "      <th>total_bedrooms</th>\n",
       "      <th>population</th>\n",
       "      <th>households</th>\n",
       "      <th>median_income</th>\n",
       "      <th>median_house_value</th>\n",
       "      <th>ocean_proximity</th>\n",
       "    </tr>\n",
       "  </thead>\n",
       "  <tbody>\n",
       "    <tr>\n",
       "      <th>0</th>\n",
       "      <td>-121.97</td>\n",
       "      <td>37.64</td>\n",
       "      <td>32.0</td>\n",
       "      <td>1283.0</td>\n",
       "      <td>194.0</td>\n",
       "      <td>485.0</td>\n",
       "      <td>171.0</td>\n",
       "      <td>6.0574</td>\n",
       "      <td>12.973863</td>\n",
       "      <td>0</td>\n",
       "    </tr>\n",
       "    <tr>\n",
       "      <th>1</th>\n",
       "      <td>-121.99</td>\n",
       "      <td>37.61</td>\n",
       "      <td>9.0</td>\n",
       "      <td>3666.0</td>\n",
       "      <td>711.0</td>\n",
       "      <td>2341.0</td>\n",
       "      <td>703.0</td>\n",
       "      <td>4.6458</td>\n",
       "      <td>12.287653</td>\n",
       "      <td>0</td>\n",
       "    </tr>\n",
       "    <tr>\n",
       "      <th>2</th>\n",
       "      <td>-121.97</td>\n",
       "      <td>37.57</td>\n",
       "      <td>21.0</td>\n",
       "      <td>4342.0</td>\n",
       "      <td>783.0</td>\n",
       "      <td>2172.0</td>\n",
       "      <td>789.0</td>\n",
       "      <td>4.6146</td>\n",
       "      <td>12.419570</td>\n",
       "      <td>0</td>\n",
       "    </tr>\n",
       "    <tr>\n",
       "      <th>3</th>\n",
       "      <td>-121.96</td>\n",
       "      <td>37.58</td>\n",
       "      <td>15.0</td>\n",
       "      <td>3575.0</td>\n",
       "      <td>597.0</td>\n",
       "      <td>1777.0</td>\n",
       "      <td>559.0</td>\n",
       "      <td>5.7192</td>\n",
       "      <td>12.554967</td>\n",
       "      <td>0</td>\n",
       "    </tr>\n",
       "    <tr>\n",
       "      <th>4</th>\n",
       "      <td>-121.98</td>\n",
       "      <td>37.58</td>\n",
       "      <td>20.0</td>\n",
       "      <td>4126.0</td>\n",
       "      <td>1031.0</td>\n",
       "      <td>2079.0</td>\n",
       "      <td>975.0</td>\n",
       "      <td>3.6832</td>\n",
       "      <td>12.287192</td>\n",
       "      <td>0</td>\n",
       "    </tr>\n",
       "    <tr>\n",
       "      <th>...</th>\n",
       "      <td>...</td>\n",
       "      <td>...</td>\n",
       "      <td>...</td>\n",
       "      <td>...</td>\n",
       "      <td>...</td>\n",
       "      <td>...</td>\n",
       "      <td>...</td>\n",
       "      <td>...</td>\n",
       "      <td>...</td>\n",
       "      <td>...</td>\n",
       "    </tr>\n",
       "    <tr>\n",
       "      <th>15682</th>\n",
       "      <td>-121.09</td>\n",
       "      <td>39.48</td>\n",
       "      <td>25.0</td>\n",
       "      <td>1665.0</td>\n",
       "      <td>374.0</td>\n",
       "      <td>845.0</td>\n",
       "      <td>330.0</td>\n",
       "      <td>1.5603</td>\n",
       "      <td>11.265745</td>\n",
       "      <td>1</td>\n",
       "    </tr>\n",
       "    <tr>\n",
       "      <th>15683</th>\n",
       "      <td>-121.21</td>\n",
       "      <td>39.49</td>\n",
       "      <td>18.0</td>\n",
       "      <td>697.0</td>\n",
       "      <td>150.0</td>\n",
       "      <td>356.0</td>\n",
       "      <td>114.0</td>\n",
       "      <td>2.5568</td>\n",
       "      <td>11.252859</td>\n",
       "      <td>1</td>\n",
       "    </tr>\n",
       "    <tr>\n",
       "      <th>15684</th>\n",
       "      <td>-121.22</td>\n",
       "      <td>39.43</td>\n",
       "      <td>17.0</td>\n",
       "      <td>2254.0</td>\n",
       "      <td>485.0</td>\n",
       "      <td>1007.0</td>\n",
       "      <td>433.0</td>\n",
       "      <td>1.7000</td>\n",
       "      <td>11.432799</td>\n",
       "      <td>1</td>\n",
       "    </tr>\n",
       "    <tr>\n",
       "      <th>15685</th>\n",
       "      <td>-121.32</td>\n",
       "      <td>39.43</td>\n",
       "      <td>18.0</td>\n",
       "      <td>1860.0</td>\n",
       "      <td>409.0</td>\n",
       "      <td>741.0</td>\n",
       "      <td>349.0</td>\n",
       "      <td>1.8672</td>\n",
       "      <td>11.346871</td>\n",
       "      <td>1</td>\n",
       "    </tr>\n",
       "    <tr>\n",
       "      <th>15686</th>\n",
       "      <td>-121.24</td>\n",
       "      <td>39.37</td>\n",
       "      <td>16.0</td>\n",
       "      <td>2785.0</td>\n",
       "      <td>616.0</td>\n",
       "      <td>1387.0</td>\n",
       "      <td>530.0</td>\n",
       "      <td>2.3886</td>\n",
       "      <td>11.400876</td>\n",
       "      <td>1</td>\n",
       "    </tr>\n",
       "  </tbody>\n",
       "</table>\n",
       "<p>15687 rows × 10 columns</p>\n",
       "</div>"
      ],
      "text/plain": [
       "       longitude  latitude  housing_median_age  total_rooms  total_bedrooms  \\\n",
       "0        -121.97     37.64                32.0       1283.0           194.0   \n",
       "1        -121.99     37.61                 9.0       3666.0           711.0   \n",
       "2        -121.97     37.57                21.0       4342.0           783.0   \n",
       "3        -121.96     37.58                15.0       3575.0           597.0   \n",
       "4        -121.98     37.58                20.0       4126.0          1031.0   \n",
       "...          ...       ...                 ...          ...             ...   \n",
       "15682    -121.09     39.48                25.0       1665.0           374.0   \n",
       "15683    -121.21     39.49                18.0        697.0           150.0   \n",
       "15684    -121.22     39.43                17.0       2254.0           485.0   \n",
       "15685    -121.32     39.43                18.0       1860.0           409.0   \n",
       "15686    -121.24     39.37                16.0       2785.0           616.0   \n",
       "\n",
       "       population  households  median_income  median_house_value  \\\n",
       "0           485.0       171.0         6.0574           12.973863   \n",
       "1          2341.0       703.0         4.6458           12.287653   \n",
       "2          2172.0       789.0         4.6146           12.419570   \n",
       "3          1777.0       559.0         5.7192           12.554967   \n",
       "4          2079.0       975.0         3.6832           12.287192   \n",
       "...           ...         ...            ...                 ...   \n",
       "15682       845.0       330.0         1.5603           11.265745   \n",
       "15683       356.0       114.0         2.5568           11.252859   \n",
       "15684      1007.0       433.0         1.7000           11.432799   \n",
       "15685       741.0       349.0         1.8672           11.346871   \n",
       "15686      1387.0       530.0         2.3886           11.400876   \n",
       "\n",
       "       ocean_proximity  \n",
       "0                    0  \n",
       "1                    0  \n",
       "2                    0  \n",
       "3                    0  \n",
       "4                    0  \n",
       "...                ...  \n",
       "15682                1  \n",
       "15683                1  \n",
       "15684                1  \n",
       "15685                1  \n",
       "15686                1  \n",
       "\n",
       "[15687 rows x 10 columns]"
      ]
     },
     "execution_count": 6,
     "metadata": {},
     "output_type": "execute_result"
    }
   ],
   "source": [
    "df"
   ]
  },
  {
   "cell_type": "code",
   "execution_count": 7,
   "id": "941ebb07",
   "metadata": {
    "execution": {
     "iopub.execute_input": "2023-10-22T10:24:32.801280Z",
     "iopub.status.busy": "2023-10-22T10:24:32.800606Z",
     "iopub.status.idle": "2023-10-22T10:24:32.816592Z",
     "shell.execute_reply": "2023-10-22T10:24:32.815453Z"
    },
    "papermill": {
     "duration": 0.029249,
     "end_time": "2023-10-22T10:24:32.819291",
     "exception": false,
     "start_time": "2023-10-22T10:24:32.790042",
     "status": "completed"
    },
    "tags": []
   },
   "outputs": [],
   "source": [
    "X = df.drop(columns=['median_house_value'])\n",
    "y = df['median_house_value']\n",
    "X_train, X_temp, y_train, y_temp = train_test_split(X, y, test_size=0.4, random_state=1)\n",
    "X_val, X_test, y_val, y_test = train_test_split(X_temp, y_temp, test_size=0.5, random_state=1)"
   ]
  },
  {
   "cell_type": "code",
   "execution_count": 8,
   "id": "42a3cb16",
   "metadata": {
    "execution": {
     "iopub.execute_input": "2023-10-22T10:24:32.840120Z",
     "iopub.status.busy": "2023-10-22T10:24:32.839074Z",
     "iopub.status.idle": "2023-10-22T10:24:32.846641Z",
     "shell.execute_reply": "2023-10-22T10:24:32.845329Z"
    },
    "papermill": {
     "duration": 0.020445,
     "end_time": "2023-10-22T10:24:32.849039",
     "exception": false,
     "start_time": "2023-10-22T10:24:32.828594",
     "status": "completed"
    },
    "tags": []
   },
   "outputs": [
    {
     "name": "stdout",
     "output_type": "stream",
     "text": [
      "Train set shape: (9412, 9) (9412,)\n",
      "Validation set shape: (3137, 9) (3137,)\n",
      "Test set shape: (3138, 9) (3138,)\n"
     ]
    }
   ],
   "source": [
    "print(\"Train set shape:\", X_train.shape, y_train.shape)\n",
    "print(\"Validation set shape:\", X_val.shape, y_val.shape)\n",
    "print(\"Test set shape:\", X_test.shape, y_test.shape)"
   ]
  },
  {
   "cell_type": "markdown",
   "id": "ed909212",
   "metadata": {
    "papermill": {
     "duration": 0.009013,
     "end_time": "2023-10-22T10:24:32.867472",
     "exception": false,
     "start_time": "2023-10-22T10:24:32.858459",
     "status": "completed"
    },
    "tags": []
   },
   "source": [
    "# **Question 1**"
   ]
  },
  {
   "cell_type": "code",
   "execution_count": 9,
   "id": "736e17d6",
   "metadata": {
    "execution": {
     "iopub.execute_input": "2023-10-22T10:24:32.888438Z",
     "iopub.status.busy": "2023-10-22T10:24:32.887273Z",
     "iopub.status.idle": "2023-10-22T10:24:32.912133Z",
     "shell.execute_reply": "2023-10-22T10:24:32.911322Z"
    },
    "papermill": {
     "duration": 0.037549,
     "end_time": "2023-10-22T10:24:32.914317",
     "exception": false,
     "start_time": "2023-10-22T10:24:32.876768",
     "status": "completed"
    },
    "tags": []
   },
   "outputs": [
    {
     "data": {
      "text/html": [
       "<style>#sk-container-id-1 {color: black;background-color: white;}#sk-container-id-1 pre{padding: 0;}#sk-container-id-1 div.sk-toggleable {background-color: white;}#sk-container-id-1 label.sk-toggleable__label {cursor: pointer;display: block;width: 100%;margin-bottom: 0;padding: 0.3em;box-sizing: border-box;text-align: center;}#sk-container-id-1 label.sk-toggleable__label-arrow:before {content: \"▸\";float: left;margin-right: 0.25em;color: #696969;}#sk-container-id-1 label.sk-toggleable__label-arrow:hover:before {color: black;}#sk-container-id-1 div.sk-estimator:hover label.sk-toggleable__label-arrow:before {color: black;}#sk-container-id-1 div.sk-toggleable__content {max-height: 0;max-width: 0;overflow: hidden;text-align: left;background-color: #f0f8ff;}#sk-container-id-1 div.sk-toggleable__content pre {margin: 0.2em;color: black;border-radius: 0.25em;background-color: #f0f8ff;}#sk-container-id-1 input.sk-toggleable__control:checked~div.sk-toggleable__content {max-height: 200px;max-width: 100%;overflow: auto;}#sk-container-id-1 input.sk-toggleable__control:checked~label.sk-toggleable__label-arrow:before {content: \"▾\";}#sk-container-id-1 div.sk-estimator input.sk-toggleable__control:checked~label.sk-toggleable__label {background-color: #d4ebff;}#sk-container-id-1 div.sk-label input.sk-toggleable__control:checked~label.sk-toggleable__label {background-color: #d4ebff;}#sk-container-id-1 input.sk-hidden--visually {border: 0;clip: rect(1px 1px 1px 1px);clip: rect(1px, 1px, 1px, 1px);height: 1px;margin: -1px;overflow: hidden;padding: 0;position: absolute;width: 1px;}#sk-container-id-1 div.sk-estimator {font-family: monospace;background-color: #f0f8ff;border: 1px dotted black;border-radius: 0.25em;box-sizing: border-box;margin-bottom: 0.5em;}#sk-container-id-1 div.sk-estimator:hover {background-color: #d4ebff;}#sk-container-id-1 div.sk-parallel-item::after {content: \"\";width: 100%;border-bottom: 1px solid gray;flex-grow: 1;}#sk-container-id-1 div.sk-label:hover label.sk-toggleable__label {background-color: #d4ebff;}#sk-container-id-1 div.sk-serial::before {content: \"\";position: absolute;border-left: 1px solid gray;box-sizing: border-box;top: 0;bottom: 0;left: 50%;z-index: 0;}#sk-container-id-1 div.sk-serial {display: flex;flex-direction: column;align-items: center;background-color: white;padding-right: 0.2em;padding-left: 0.2em;position: relative;}#sk-container-id-1 div.sk-item {position: relative;z-index: 1;}#sk-container-id-1 div.sk-parallel {display: flex;align-items: stretch;justify-content: center;background-color: white;position: relative;}#sk-container-id-1 div.sk-item::before, #sk-container-id-1 div.sk-parallel-item::before {content: \"\";position: absolute;border-left: 1px solid gray;box-sizing: border-box;top: 0;bottom: 0;left: 50%;z-index: -1;}#sk-container-id-1 div.sk-parallel-item {display: flex;flex-direction: column;z-index: 1;position: relative;background-color: white;}#sk-container-id-1 div.sk-parallel-item:first-child::after {align-self: flex-end;width: 50%;}#sk-container-id-1 div.sk-parallel-item:last-child::after {align-self: flex-start;width: 50%;}#sk-container-id-1 div.sk-parallel-item:only-child::after {width: 0;}#sk-container-id-1 div.sk-dashed-wrapped {border: 1px dashed gray;margin: 0 0.4em 0.5em 0.4em;box-sizing: border-box;padding-bottom: 0.4em;background-color: white;}#sk-container-id-1 div.sk-label label {font-family: monospace;font-weight: bold;display: inline-block;line-height: 1.2em;}#sk-container-id-1 div.sk-label-container {text-align: center;}#sk-container-id-1 div.sk-container {/* jupyter's `normalize.less` sets `[hidden] { display: none; }` but bootstrap.min.css set `[hidden] { display: none !important; }` so we also need the `!important` here to be able to override the default hidden behavior on the sphinx rendered scikit-learn.org. See: https://github.com/scikit-learn/scikit-learn/issues/21755 */display: inline-block !important;position: relative;}#sk-container-id-1 div.sk-text-repr-fallback {display: none;}</style><div id=\"sk-container-id-1\" class=\"sk-top-container\"><div class=\"sk-text-repr-fallback\"><pre>DecisionTreeRegressor(max_depth=1)</pre><b>In a Jupyter environment, please rerun this cell to show the HTML representation or trust the notebook. <br />On GitHub, the HTML representation is unable to render, please try loading this page with nbviewer.org.</b></div><div class=\"sk-container\" hidden><div class=\"sk-item\"><div class=\"sk-estimator sk-toggleable\"><input class=\"sk-toggleable__control sk-hidden--visually\" id=\"sk-estimator-id-1\" type=\"checkbox\" checked><label for=\"sk-estimator-id-1\" class=\"sk-toggleable__label sk-toggleable__label-arrow\">DecisionTreeRegressor</label><div class=\"sk-toggleable__content\"><pre>DecisionTreeRegressor(max_depth=1)</pre></div></div></div></div></div>"
      ],
      "text/plain": [
       "DecisionTreeRegressor(max_depth=1)"
      ]
     },
     "execution_count": 9,
     "metadata": {},
     "output_type": "execute_result"
    }
   ],
   "source": [
    "dt = DecisionTreeRegressor(max_depth=1)\n",
    "dt.fit(X_train, y_train)"
   ]
  },
  {
   "cell_type": "code",
   "execution_count": 10,
   "id": "ff8aebbd",
   "metadata": {
    "execution": {
     "iopub.execute_input": "2023-10-22T10:24:32.935559Z",
     "iopub.status.busy": "2023-10-22T10:24:32.934629Z",
     "iopub.status.idle": "2023-10-22T10:24:32.940770Z",
     "shell.execute_reply": "2023-10-22T10:24:32.939663Z"
    },
    "papermill": {
     "duration": 0.021117,
     "end_time": "2023-10-22T10:24:32.944970",
     "exception": false,
     "start_time": "2023-10-22T10:24:32.923853",
     "status": "completed"
    },
    "tags": []
   },
   "outputs": [
    {
     "name": "stdout",
     "output_type": "stream",
     "text": [
      "The feature used for splitting the data is: ocean_proximity\n"
     ]
    }
   ],
   "source": [
    "splitting_feature_index = dt.tree_.feature[0]\n",
    "feature_name = X_train.columns[splitting_feature_index]\n",
    "print(f\"The feature used for splitting the data is: {feature_name}\")"
   ]
  },
  {
   "cell_type": "markdown",
   "id": "e60de406",
   "metadata": {
    "papermill": {
     "duration": 0.009447,
     "end_time": "2023-10-22T10:24:32.964997",
     "exception": false,
     "start_time": "2023-10-22T10:24:32.955550",
     "status": "completed"
    },
    "tags": []
   },
   "source": [
    "# **Question 2**"
   ]
  },
  {
   "cell_type": "code",
   "execution_count": 11,
   "id": "ca4af31a",
   "metadata": {
    "execution": {
     "iopub.execute_input": "2023-10-22T10:24:32.986235Z",
     "iopub.status.busy": "2023-10-22T10:24:32.985553Z",
     "iopub.status.idle": "2023-10-22T10:24:33.287417Z",
     "shell.execute_reply": "2023-10-22T10:24:33.286371Z"
    },
    "papermill": {
     "duration": 0.31552,
     "end_time": "2023-10-22T10:24:33.290127",
     "exception": false,
     "start_time": "2023-10-22T10:24:32.974607",
     "status": "completed"
    },
    "tags": []
   },
   "outputs": [
    {
     "data": {
      "text/html": [
       "<style>#sk-container-id-2 {color: black;background-color: white;}#sk-container-id-2 pre{padding: 0;}#sk-container-id-2 div.sk-toggleable {background-color: white;}#sk-container-id-2 label.sk-toggleable__label {cursor: pointer;display: block;width: 100%;margin-bottom: 0;padding: 0.3em;box-sizing: border-box;text-align: center;}#sk-container-id-2 label.sk-toggleable__label-arrow:before {content: \"▸\";float: left;margin-right: 0.25em;color: #696969;}#sk-container-id-2 label.sk-toggleable__label-arrow:hover:before {color: black;}#sk-container-id-2 div.sk-estimator:hover label.sk-toggleable__label-arrow:before {color: black;}#sk-container-id-2 div.sk-toggleable__content {max-height: 0;max-width: 0;overflow: hidden;text-align: left;background-color: #f0f8ff;}#sk-container-id-2 div.sk-toggleable__content pre {margin: 0.2em;color: black;border-radius: 0.25em;background-color: #f0f8ff;}#sk-container-id-2 input.sk-toggleable__control:checked~div.sk-toggleable__content {max-height: 200px;max-width: 100%;overflow: auto;}#sk-container-id-2 input.sk-toggleable__control:checked~label.sk-toggleable__label-arrow:before {content: \"▾\";}#sk-container-id-2 div.sk-estimator input.sk-toggleable__control:checked~label.sk-toggleable__label {background-color: #d4ebff;}#sk-container-id-2 div.sk-label input.sk-toggleable__control:checked~label.sk-toggleable__label {background-color: #d4ebff;}#sk-container-id-2 input.sk-hidden--visually {border: 0;clip: rect(1px 1px 1px 1px);clip: rect(1px, 1px, 1px, 1px);height: 1px;margin: -1px;overflow: hidden;padding: 0;position: absolute;width: 1px;}#sk-container-id-2 div.sk-estimator {font-family: monospace;background-color: #f0f8ff;border: 1px dotted black;border-radius: 0.25em;box-sizing: border-box;margin-bottom: 0.5em;}#sk-container-id-2 div.sk-estimator:hover {background-color: #d4ebff;}#sk-container-id-2 div.sk-parallel-item::after {content: \"\";width: 100%;border-bottom: 1px solid gray;flex-grow: 1;}#sk-container-id-2 div.sk-label:hover label.sk-toggleable__label {background-color: #d4ebff;}#sk-container-id-2 div.sk-serial::before {content: \"\";position: absolute;border-left: 1px solid gray;box-sizing: border-box;top: 0;bottom: 0;left: 50%;z-index: 0;}#sk-container-id-2 div.sk-serial {display: flex;flex-direction: column;align-items: center;background-color: white;padding-right: 0.2em;padding-left: 0.2em;position: relative;}#sk-container-id-2 div.sk-item {position: relative;z-index: 1;}#sk-container-id-2 div.sk-parallel {display: flex;align-items: stretch;justify-content: center;background-color: white;position: relative;}#sk-container-id-2 div.sk-item::before, #sk-container-id-2 div.sk-parallel-item::before {content: \"\";position: absolute;border-left: 1px solid gray;box-sizing: border-box;top: 0;bottom: 0;left: 50%;z-index: -1;}#sk-container-id-2 div.sk-parallel-item {display: flex;flex-direction: column;z-index: 1;position: relative;background-color: white;}#sk-container-id-2 div.sk-parallel-item:first-child::after {align-self: flex-end;width: 50%;}#sk-container-id-2 div.sk-parallel-item:last-child::after {align-self: flex-start;width: 50%;}#sk-container-id-2 div.sk-parallel-item:only-child::after {width: 0;}#sk-container-id-2 div.sk-dashed-wrapped {border: 1px dashed gray;margin: 0 0.4em 0.5em 0.4em;box-sizing: border-box;padding-bottom: 0.4em;background-color: white;}#sk-container-id-2 div.sk-label label {font-family: monospace;font-weight: bold;display: inline-block;line-height: 1.2em;}#sk-container-id-2 div.sk-label-container {text-align: center;}#sk-container-id-2 div.sk-container {/* jupyter's `normalize.less` sets `[hidden] { display: none; }` but bootstrap.min.css set `[hidden] { display: none !important; }` so we also need the `!important` here to be able to override the default hidden behavior on the sphinx rendered scikit-learn.org. See: https://github.com/scikit-learn/scikit-learn/issues/21755 */display: inline-block !important;position: relative;}#sk-container-id-2 div.sk-text-repr-fallback {display: none;}</style><div id=\"sk-container-id-2\" class=\"sk-top-container\"><div class=\"sk-text-repr-fallback\"><pre>RandomForestRegressor(n_estimators=10, n_jobs=-1, random_state=1)</pre><b>In a Jupyter environment, please rerun this cell to show the HTML representation or trust the notebook. <br />On GitHub, the HTML representation is unable to render, please try loading this page with nbviewer.org.</b></div><div class=\"sk-container\" hidden><div class=\"sk-item\"><div class=\"sk-estimator sk-toggleable\"><input class=\"sk-toggleable__control sk-hidden--visually\" id=\"sk-estimator-id-2\" type=\"checkbox\" checked><label for=\"sk-estimator-id-2\" class=\"sk-toggleable__label sk-toggleable__label-arrow\">RandomForestRegressor</label><div class=\"sk-toggleable__content\"><pre>RandomForestRegressor(n_estimators=10, n_jobs=-1, random_state=1)</pre></div></div></div></div></div>"
      ],
      "text/plain": [
       "RandomForestRegressor(n_estimators=10, n_jobs=-1, random_state=1)"
      ]
     },
     "execution_count": 11,
     "metadata": {},
     "output_type": "execute_result"
    }
   ],
   "source": [
    "rf = RandomForestRegressor(n_estimators=10, random_state=1, n_jobs=-1)\n",
    "\n",
    "rf.fit(X_train, y_train)"
   ]
  },
  {
   "cell_type": "code",
   "execution_count": 12,
   "id": "1f2e33cd",
   "metadata": {
    "execution": {
     "iopub.execute_input": "2023-10-22T10:24:33.312479Z",
     "iopub.status.busy": "2023-10-22T10:24:33.311576Z",
     "iopub.status.idle": "2023-10-22T10:24:33.337367Z",
     "shell.execute_reply": "2023-10-22T10:24:33.336137Z"
    },
    "papermill": {
     "duration": 0.040048,
     "end_time": "2023-10-22T10:24:33.340473",
     "exception": false,
     "start_time": "2023-10-22T10:24:33.300425",
     "status": "completed"
    },
    "tags": []
   },
   "outputs": [
    {
     "name": "stdout",
     "output_type": "stream",
     "text": [
      "RMSE on validation set: 0.236\n"
     ]
    }
   ],
   "source": [
    "y_pred = rf.predict(X_val)\n",
    "\n",
    "rmse = np.sqrt(mean_squared_error(y_val, y_pred))\n",
    "\n",
    "print(f\"RMSE on validation set: {round(rmse, 3)}\")"
   ]
  },
  {
   "cell_type": "markdown",
   "id": "59d28755",
   "metadata": {
    "papermill": {
     "duration": 0.00955,
     "end_time": "2023-10-22T10:24:33.360343",
     "exception": false,
     "start_time": "2023-10-22T10:24:33.350793",
     "status": "completed"
    },
    "tags": []
   },
   "source": [
    "# **Question 3**"
   ]
  },
  {
   "cell_type": "code",
   "execution_count": 13,
   "id": "f86397f2",
   "metadata": {
    "execution": {
     "iopub.execute_input": "2023-10-22T10:24:33.381947Z",
     "iopub.status.busy": "2023-10-22T10:24:33.381572Z",
     "iopub.status.idle": "2023-10-22T10:24:47.124733Z",
     "shell.execute_reply": "2023-10-22T10:24:47.123252Z"
    },
    "papermill": {
     "duration": 13.758043,
     "end_time": "2023-10-22T10:24:47.128246",
     "exception": false,
     "start_time": "2023-10-22T10:24:33.370203",
     "status": "completed"
    },
    "tags": []
   },
   "outputs": [
    {
     "name": "stdout",
     "output_type": "stream",
     "text": [
      "After which value of n_estimators does RMSE stop improving: 50\n"
     ]
    }
   ],
   "source": [
    "n_estimators_values = list(range(10, 201, 10))\n",
    "\n",
    "best_rmse = float('inf')\n",
    "best_n_estimators = None\n",
    "prev_rmse = float('inf')\n",
    "stop_improving = False\n",
    "\n",
    "for n_estimators in n_estimators_values:\n",
    "    model = RandomForestRegressor(n_estimators=n_estimators, random_state=1)\n",
    "    model.fit(X_train, y_train)  \n",
    "    y_pred = model.predict(X_val)  \n",
    "    rmse = np.sqrt(mean_squared_error(y_val, y_pred))  \n",
    "\n",
    "    if rmse > prev_rmse:\n",
    "        stop_improving = True\n",
    "    else:\n",
    "        prev_rmse = rmse\n",
    "\n",
    "    if rmse < best_rmse:\n",
    "        best_rmse = rmse\n",
    "        best_n_estimators = n_estimators\n",
    "\n",
    "    if stop_improving:\n",
    "        break\n",
    "\n",
    "print(\"After which value of n_estimators does RMSE stop improving:\", round(best_n_estimators, 3))"
   ]
  },
  {
   "cell_type": "markdown",
   "id": "1ac894f5",
   "metadata": {
    "papermill": {
     "duration": 0.009847,
     "end_time": "2023-10-22T10:24:47.148862",
     "exception": false,
     "start_time": "2023-10-22T10:24:47.139015",
     "status": "completed"
    },
    "tags": []
   },
   "source": [
    "# **Question 4**"
   ]
  },
  {
   "cell_type": "code",
   "execution_count": 14,
   "id": "cd40a0f5",
   "metadata": {
    "execution": {
     "iopub.execute_input": "2023-10-22T10:24:47.171192Z",
     "iopub.status.busy": "2023-10-22T10:24:47.170740Z",
     "iopub.status.idle": "2023-10-22T10:32:49.077067Z",
     "shell.execute_reply": "2023-10-22T10:32:49.075885Z"
    },
    "papermill": {
     "duration": 481.930391,
     "end_time": "2023-10-22T10:32:49.089395",
     "exception": false,
     "start_time": "2023-10-22T10:24:47.159004",
     "status": "completed"
    },
    "tags": []
   },
   "outputs": [
    {
     "name": "stdout",
     "output_type": "stream",
     "text": [
      "The best max_depth using mean RMSE: 25\n"
     ]
    }
   ],
   "source": [
    "max_depth_values = [10, 15, 20, 25]\n",
    "n_estimators_values = list(range(10, 201, 10))\n",
    "\n",
    "best_mean_rmse = float('inf')\n",
    "best_max_depth = None\n",
    "best_n_estimators = None\n",
    "\n",
    "for max_depth in max_depth_values:\n",
    "    for n_estimators in n_estimators_values:\n",
    "        model = RandomForestRegressor(max_depth=max_depth, n_estimators=n_estimators, random_state=1)\n",
    "        model.fit(X_train, y_train)  \n",
    "        y_pred = model.predict(X_val)  \n",
    "        rmse = np.sqrt(mean_squared_error(y_val, y_pred)) \n",
    "\n",
    "        if rmse < best_mean_rmse:\n",
    "            best_mean_rmse = rmse\n",
    "            best_max_depth = max_depth\n",
    "            best_n_estimators = n_estimators\n",
    "\n",
    "print(\"The best max_depth using mean RMSE:\", best_max_depth)"
   ]
  },
  {
   "cell_type": "markdown",
   "id": "cb1a0ae2",
   "metadata": {
    "papermill": {
     "duration": 0.009785,
     "end_time": "2023-10-22T10:32:49.109153",
     "exception": false,
     "start_time": "2023-10-22T10:32:49.099368",
     "status": "completed"
    },
    "tags": []
   },
   "source": [
    "# **Question 5**"
   ]
  },
  {
   "cell_type": "code",
   "execution_count": 15,
   "id": "2256017a",
   "metadata": {
    "execution": {
     "iopub.execute_input": "2023-10-22T10:32:49.130929Z",
     "iopub.status.busy": "2023-10-22T10:32:49.130542Z",
     "iopub.status.idle": "2023-10-22T10:32:49.418553Z",
     "shell.execute_reply": "2023-10-22T10:32:49.417754Z"
    },
    "papermill": {
     "duration": 0.302126,
     "end_time": "2023-10-22T10:32:49.421232",
     "exception": false,
     "start_time": "2023-10-22T10:32:49.119106",
     "status": "completed"
    },
    "tags": []
   },
   "outputs": [
    {
     "name": "stdout",
     "output_type": "stream",
     "text": [
      "Feature: ocean_proximity, Importance: 0.35942297023963965\n",
      "Feature: median_income, Importance: 0.33771113831677546\n",
      "Feature: latitude, Importance: 0.096856612085106\n",
      "Feature: longitude, Importance: 0.0847295257027977\n",
      "Feature: housing_median_age, Importance: 0.03273270952051309\n",
      "Feature: population, Importance: 0.029635542270991723\n",
      "Feature: total_rooms, Importance: 0.02329984139160675\n",
      "Feature: households, Importance: 0.018283167956269268\n",
      "Feature: total_bedrooms, Importance: 0.017328492516300434\n"
     ]
    }
   ],
   "source": [
    "from sklearn.ensemble import RandomForestRegressor\n",
    "\n",
    "rf = RandomForestRegressor(n_estimators=10, max_depth=20, random_state=1, n_jobs=-1)\n",
    "\n",
    "rf.fit(X_train, y_train)\n",
    "\n",
    "feature_importances = rf.feature_importances_\n",
    "\n",
    "feature_importance_dict = dict(zip(X_train.columns, feature_importances))\n",
    "\n",
    "sorted_feature_importances = sorted(feature_importance_dict.items(), key=lambda x: x[1], reverse=True)\n",
    "\n",
    "for feature, importance in sorted_feature_importances:\n",
    "    print(f\"Feature: {feature}, Importance: {importance}\")"
   ]
  },
  {
   "cell_type": "markdown",
   "id": "f9cbc2b6",
   "metadata": {
    "papermill": {
     "duration": 0.010416,
     "end_time": "2023-10-22T10:32:49.442143",
     "exception": false,
     "start_time": "2023-10-22T10:32:49.431727",
     "status": "completed"
    },
    "tags": []
   },
   "source": [
    "# **Question 6**"
   ]
  },
  {
   "cell_type": "code",
   "execution_count": 16,
   "id": "2e3e34e4",
   "metadata": {
    "execution": {
     "iopub.execute_input": "2023-10-22T10:32:49.464325Z",
     "iopub.status.busy": "2023-10-22T10:32:49.463900Z",
     "iopub.status.idle": "2023-10-22T10:33:04.671285Z",
     "shell.execute_reply": "2023-10-22T10:33:04.669852Z"
    },
    "papermill": {
     "duration": 15.222305,
     "end_time": "2023-10-22T10:33:04.674439",
     "exception": false,
     "start_time": "2023-10-22T10:32:49.452134",
     "status": "completed"
    },
    "tags": []
   },
   "outputs": [
    {
     "name": "stdout",
     "output_type": "stream",
     "text": [
      "Requirement already satisfied: xgboost in /opt/conda/lib/python3.10/site-packages (1.7.6)\r\n",
      "Requirement already satisfied: numpy in /opt/conda/lib/python3.10/site-packages (from xgboost) (1.23.5)\r\n",
      "Requirement already satisfied: scipy in /opt/conda/lib/python3.10/site-packages (from xgboost) (1.11.2)\r\n"
     ]
    }
   ],
   "source": [
    "!pip install xgboost"
   ]
  },
  {
   "cell_type": "code",
   "execution_count": 17,
   "id": "04a99088",
   "metadata": {
    "execution": {
     "iopub.execute_input": "2023-10-22T10:33:04.698502Z",
     "iopub.status.busy": "2023-10-22T10:33:04.698000Z",
     "iopub.status.idle": "2023-10-22T10:33:04.896098Z",
     "shell.execute_reply": "2023-10-22T10:33:04.894804Z"
    },
    "papermill": {
     "duration": 0.213535,
     "end_time": "2023-10-22T10:33:04.899061",
     "exception": false,
     "start_time": "2023-10-22T10:33:04.685526",
     "status": "completed"
    },
    "tags": []
   },
   "outputs": [],
   "source": [
    "import xgboost as xgb"
   ]
  },
  {
   "cell_type": "code",
   "execution_count": 18,
   "id": "19a5c88c",
   "metadata": {
    "execution": {
     "iopub.execute_input": "2023-10-22T10:33:04.922527Z",
     "iopub.status.busy": "2023-10-22T10:33:04.922139Z",
     "iopub.status.idle": "2023-10-22T10:33:04.944564Z",
     "shell.execute_reply": "2023-10-22T10:33:04.943611Z"
    },
    "papermill": {
     "duration": 0.037956,
     "end_time": "2023-10-22T10:33:04.947828",
     "exception": false,
     "start_time": "2023-10-22T10:33:04.909872",
     "status": "completed"
    },
    "tags": []
   },
   "outputs": [],
   "source": [
    "dtrain = xgb.DMatrix(X_train, label=y_train)\n",
    "dval = xgb.DMatrix(X_val, label=y_val)\n",
    "# Create a watchlist for validation\n",
    "watchlist = [(dtrain, 'train'), (dval, 'eval')]"
   ]
  },
  {
   "cell_type": "code",
   "execution_count": 19,
   "id": "6e2e6a88",
   "metadata": {
    "execution": {
     "iopub.execute_input": "2023-10-22T10:33:04.973126Z",
     "iopub.status.busy": "2023-10-22T10:33:04.972715Z",
     "iopub.status.idle": "2023-10-22T10:33:07.394195Z",
     "shell.execute_reply": "2023-10-22T10:33:07.392803Z"
    },
    "papermill": {
     "duration": 2.436556,
     "end_time": "2023-10-22T10:33:07.396957",
     "exception": false,
     "start_time": "2023-10-22T10:33:04.960401",
     "status": "completed"
    },
    "tags": []
   },
   "outputs": [
    {
     "name": "stderr",
     "output_type": "stream",
     "text": [
      "/opt/conda/lib/python3.10/site-packages/xgboost/core.py:617: FutureWarning: Pass `evals` as keyword args.\n",
      "  warnings.warn(msg, FutureWarning)\n",
      "/opt/conda/lib/python3.10/site-packages/xgboost/core.py:617: FutureWarning: Pass `evals` as keyword args.\n",
      "  warnings.warn(msg, FutureWarning)\n"
     ]
    },
    {
     "name": "stdout",
     "output_type": "stream",
     "text": [
      "0.3\n"
     ]
    }
   ],
   "source": [
    "xgb_params = {\n",
    "    'eta': 0.3, \n",
    "    'max_depth': 6,\n",
    "    'min_child_weight': 1,\n",
    "    'objective': 'reg:squarederror',\n",
    "    'nthread': 8,\n",
    "    'seed': 1,\n",
    "    'verbosity': 1,\n",
    "}\n",
    "\n",
    "num_round = 100\n",
    "bst = xgb.train(xgb_params, dtrain, num_round, watchlist, early_stopping_rounds=10, verbose_eval=False)\n",
    "\n",
    "y_pred = bst.predict(dval)\n",
    "\n",
    "rmse_03 = np.sqrt(mean_squared_error(y_val, y_pred))\n",
    "\n",
    "xgb_params['eta'] = 0.1\n",
    "\n",
    "bst = xgb.train(xgb_params, dtrain, num_round, watchlist, early_stopping_rounds=10, verbose_eval=False)\n",
    "\n",
    "y_pred = bst.predict(dval)\n",
    "\n",
    "rmse_01 = np.sqrt(mean_squared_error(y_val, y_pred))\n",
    "\n",
    "if rmse_03 < rmse_01:\n",
    "    print(\"0.3\")\n",
    "elif rmse_03 > rmse_01:\n",
    "    print(\"0.1\")\n",
    "else:\n",
    "    print(\"Both give equal value\")"
   ]
  }
 ],
 "metadata": {
  "kernelspec": {
   "display_name": "Python 3",
   "language": "python",
   "name": "python3"
  },
  "language_info": {
   "codemirror_mode": {
    "name": "ipython",
    "version": 3
   },
   "file_extension": ".py",
   "mimetype": "text/x-python",
   "name": "python",
   "nbconvert_exporter": "python",
   "pygments_lexer": "ipython3",
   "version": "3.10.12"
  },
  "papermill": {
   "default_parameters": {},
   "duration": 522.128732,
   "end_time": "2023-10-22T10:33:08.131483",
   "environment_variables": {},
   "exception": null,
   "input_path": "__notebook__.ipynb",
   "output_path": "__notebook__.ipynb",
   "parameters": {},
   "start_time": "2023-10-22T10:24:26.002751",
   "version": "2.4.0"
  }
 },
 "nbformat": 4,
 "nbformat_minor": 5
}
